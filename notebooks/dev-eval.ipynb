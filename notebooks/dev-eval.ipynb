{
 "cells": [
  {
   "cell_type": "code",
   "execution_count": 1,
   "id": "c2b4d95b",
   "metadata": {},
   "outputs": [],
   "source": [
    "import torch\n",
    "from PIL import Image\n",
    "from safetensors.torch import load_model\n",
    "\n",
    "from yolo.model import Yolo\n",
    "from yolo.data import CollateWithAnchors, CocoDataset, get_val_transforms\n",
    "from yolo.anchors import DecodeDetections\n",
    "from yolo.utils import DetectionMetrics"
   ]
  },
  {
   "cell_type": "code",
   "execution_count": 2,
   "id": "93fa4987",
   "metadata": {},
   "outputs": [
    {
     "data": {
      "text/html": [
       "<style>.container { width:100% !important; }</style>"
      ],
      "text/plain": [
       "<IPython.core.display.HTML object>"
      ]
     },
     "metadata": {},
     "output_type": "display_data"
    }
   ],
   "source": [
    "import matplotlib.pyplot as plt\n",
    "%matplotlib inline\n",
    "from IPython.display import display, HTML\n",
    "display(HTML(\"<style>.container { width:100% !important; }</style>\"))\n",
    "\n",
    "%load_ext autoreload\n",
    "%autoreload 2"
   ]
  },
  {
   "cell_type": "code",
   "execution_count": 3,
   "id": "f522513a",
   "metadata": {},
   "outputs": [
    {
     "name": "stdout",
     "output_type": "stream",
     "text": [
      "loading annotations into memory...\n",
      "Done (t=0.17s)\n",
      "creating index...\n",
      "index created!\n"
     ]
    }
   ],
   "source": [
    "IMAGE_SIZE = 608\n",
    "ANCHORS = [\n",
    "    (10,13),\n",
    "    (16,30),\n",
    "    (33,23),\n",
    "    (30,61),\n",
    "    (62,45),\n",
    "    (59,119),\n",
    "    (116,90),\n",
    "    (156,198),\n",
    "    (373,326)\n",
    "]\n",
    "SCALES = [8, 16, 32]\n",
    "num_anchors_per_scale = 3\n",
    "\n",
    "val_dataset = CocoDataset(\n",
    "    dataset_root = \"/media/bryan/ssd01/fiftyone/coco-2017\",\n",
    "    split = \"validation\",\n",
    "    transform = get_val_transforms(resize_size=IMAGE_SIZE)\n",
    ")\n",
    "val_dataloader = torch.utils.data.DataLoader(\n",
    "    val_dataset,\n",
    "    batch_size=16,\n",
    "    shuffle=False,\n",
    "    pin_memory=True,\n",
    "    drop_last=False,\n",
    "    num_workers=0,\n",
    "    collate_fn=CollateWithAnchors(ANCHORS, SCALES, IMAGE_SIZE, IMAGE_SIZE, num_classes = val_dataset.num_classes)\n",
    ")\n",
    "\n",
    "model_checkpoint = \"/media/bryan/ssd01/expr/yolo_from_scratch/debug02/checkpoints/checkpoint_9/model.safetensors\"\n",
    "model = Yolo(\n",
    "    val_dataset.num_classes,\n",
    "    num_anchors_per_scale,\n",
    ")\n",
    "weight_init = model.body.conv1.weight.detach().clone()\n",
    "load_model(model, model_checkpoint, device=\"cpu\")\n",
    "weight_ckpt = model.body.conv1.weight.detach().clone()\n",
    "assert not torch.allclose(weight_init, weight_ckpt)\n",
    "model.eval()\n",
    "model.to(\"cuda\");\n"
   ]
  },
  {
   "cell_type": "code",
   "execution_count": 7,
   "id": "d49197b3",
   "metadata": {},
   "outputs": [],
   "source": [
    "detection_decoder = DecodeDetections(\n",
    "    ANCHORS,\n",
    "    SCALES,\n",
    "    IMAGE_SIZE,\n",
    "    IMAGE_SIZE,\n",
    "    class_names = val_dataset.class_names,\n",
    "    num_anchors_per_scale=num_anchors_per_scale,\n",
    "    box_min_area = 50\n",
    ")\n",
    "metrics = DetectionMetrics(val_dataset.class_names) #  backend=\"faster_coco_eval\")"
   ]
  },
  {
   "cell_type": "code",
   "execution_count": 8,
   "id": "93574b48",
   "metadata": {},
   "outputs": [],
   "source": [
    "with torch.inference_mode():\n",
    "    for i, batch in enumerate(val_dataloader):\n",
    "        if i > 25:\n",
    "            break\n",
    "        outputs = model(batch[\"image\"].to(\"cuda\"))\n",
    "        preds = detection_decoder(outputs, objectness_threshold=0.5, iou_threshold=0.5)\n",
    "        metrics.update(preds, batch)"
   ]
  },
  {
   "cell_type": "code",
   "execution_count": 9,
   "id": "0c627b10",
   "metadata": {},
   "outputs": [],
   "source": [
    "metric_outputs = metrics.compute()"
   ]
  },
  {
   "cell_type": "code",
   "execution_count": 10,
   "id": "51fb20af",
   "metadata": {},
   "outputs": [
    {
     "data": {
      "text/plain": [
       "{'AP': 0.059606656432151794,\n",
       " 'AP50': 0.10258711129426956,\n",
       " 'AP75': 0.05941104516386986,\n",
       " 'AP-large': 0.0769912376999855,\n",
       " 'AP-medium': 0.044655200093984604,\n",
       " 'AP-small': 0.011817298829555511,\n",
       " 'AP-per-class/person': 0.10900713503360748,\n",
       " 'AP-per-class/bicycle': 0.0,\n",
       " 'AP-per-class/car': 0.1068156361579895,\n",
       " 'AP-per-class/motorcycle': 0.04961424693465233,\n",
       " 'AP-per-class/airplane': 0.05445544421672821,\n",
       " 'AP-per-class/bus': 0.09529703110456467,\n",
       " 'AP-per-class/train': 0.0,\n",
       " 'AP-per-class/truck': 0.05445544421672821,\n",
       " 'AP-per-class/boat': 0.0,\n",
       " 'AP-per-class/traffic light': 0.031683169305324554,\n",
       " 'AP-per-class/fire hydrant': 0.2052145153284073,\n",
       " 'AP-per-class/stop sign': 0.2059405893087387,\n",
       " 'AP-per-class/parking meter': 0.0,\n",
       " 'AP-per-class/bench': 0.0,\n",
       " 'AP-per-class/bird': 0.0,\n",
       " 'AP-per-class/cat': 0.18415841460227966,\n",
       " 'AP-per-class/dog': 0.10099010169506073,\n",
       " 'AP-per-class/horse': 0.08193068951368332,\n",
       " 'AP-per-class/sheep': 0.17298443615436554,\n",
       " 'AP-per-class/cow': 0.10808581113815308,\n",
       " 'AP-per-class/elephant': 0.09702970087528229,\n",
       " 'AP-per-class/bear': 0.2059405893087387,\n",
       " 'AP-per-class/zebra': 0.2584158480167389,\n",
       " 'AP-per-class/giraffe': 0.303465336561203,\n",
       " 'AP-per-class/backpack': 0.0,\n",
       " 'AP-per-class/umbrella': 0.05544554442167282,\n",
       " 'AP-per-class/handbag': 0.0,\n",
       " 'AP-per-class/tie': 0.006435643415898085,\n",
       " 'AP-per-class/suitcase': 0.08415841311216354,\n",
       " 'AP-per-class/frisbee': 0.05544554442167282,\n",
       " 'AP-per-class/skis': 0.0,\n",
       " 'AP-per-class/snowboard': 0.0,\n",
       " 'AP-per-class/sports ball': 0.19231495261192322,\n",
       " 'AP-per-class/kite': 0.03465346619486809,\n",
       " 'AP-per-class/baseball bat': 0.0,\n",
       " 'AP-per-class/baseball glove': 0.125742569565773,\n",
       " 'AP-per-class/skateboard': 0.10198019444942474,\n",
       " 'AP-per-class/surfboard': 0.024752475321292877,\n",
       " 'AP-per-class/tennis racket': 0.183993399143219,\n",
       " 'AP-per-class/bottle': 0.01996699720621109,\n",
       " 'AP-per-class/wine glass': 0.022970296442508698,\n",
       " 'AP-per-class/cup': 0.06130245327949524,\n",
       " 'AP-per-class/fork': 0.0,\n",
       " 'AP-per-class/knife': 0.031683169305324554,\n",
       " 'AP-per-class/spoon': 0.0,\n",
       " 'AP-per-class/bowl': 0.01683168299496174,\n",
       " 'AP-per-class/banana': 0.04306930676102638,\n",
       " 'AP-per-class/apple': 0.011881188489496708,\n",
       " 'AP-per-class/sandwich': 0.0178217813372612,\n",
       " 'AP-per-class/orange': 0.0,\n",
       " 'AP-per-class/broccoli': 0.0,\n",
       " 'AP-per-class/carrot': 0.0,\n",
       " 'AP-per-class/hot dog': 0.0,\n",
       " 'AP-per-class/pizza': 0.158877894282341,\n",
       " 'AP-per-class/donut': 0.05412541329860687,\n",
       " 'AP-per-class/cake': 0.0,\n",
       " 'AP-per-class/chair': 0.022505108267068863,\n",
       " 'AP-per-class/couch': 0.0,\n",
       " 'AP-per-class/potted plant': 0.0,\n",
       " 'AP-per-class/bed': 0.0,\n",
       " 'AP-per-class/dining table': 0.0,\n",
       " 'AP-per-class/toilet': 0.1522277295589447,\n",
       " 'AP-per-class/tv': 0.12013201415538788,\n",
       " 'AP-per-class/laptop': 0.21756139397621155,\n",
       " 'AP-per-class/mouse': 0.0,\n",
       " 'AP-per-class/remote': 0.0,\n",
       " 'AP-per-class/keyboard': 0.10396039485931396,\n",
       " 'AP-per-class/cell phone': 0.019801979884505272,\n",
       " 'AP-per-class/microwave': 0.0,\n",
       " 'AP-per-class/oven': 0.048514850437641144,\n",
       " 'AP-per-class/toaster': 0.0,\n",
       " 'AP-per-class/sink': 0.011881188489496708,\n",
       " 'AP-per-class/refrigerator': 0.0,\n",
       " 'AP-per-class/book': 0.0018151815747842193,\n",
       " 'AP-per-class/clock': 0.08316832035779953,\n",
       " 'AP-per-class/vase': 0.0,\n",
       " 'AP-per-class/scissors': 0.0,\n",
       " 'AP-per-class/teddy bear': 0.07920791953802109,\n",
       " 'AP-per-class/hair drier': 0.0,\n",
       " 'AP-per-class/toothbrush': 0.0}"
      ]
     },
     "execution_count": 10,
     "metadata": {},
     "output_type": "execute_result"
    }
   ],
   "source": [
    "metric_outputs"
   ]
  },
  {
   "cell_type": "code",
   "execution_count": null,
   "id": "55d7bb8c",
   "metadata": {},
   "outputs": [],
   "source": []
  }
 ],
 "metadata": {
  "kernelspec": {
   "display_name": "Python [conda env:pytorch-from-scratch]",
   "language": "python",
   "name": "conda-env-pytorch-from-scratch-py"
  },
  "language_info": {
   "codemirror_mode": {
    "name": "ipython",
    "version": 3
   },
   "file_extension": ".py",
   "mimetype": "text/x-python",
   "name": "python",
   "nbconvert_exporter": "python",
   "pygments_lexer": "ipython3",
   "version": "3.12.8"
  }
 },
 "nbformat": 4,
 "nbformat_minor": 5
}
