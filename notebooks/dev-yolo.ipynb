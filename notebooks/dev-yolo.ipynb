{
 "cells": [
  {
   "cell_type": "code",
   "execution_count": 1,
   "id": "7b5e5e36",
   "metadata": {},
   "outputs": [],
   "source": [
    "import torch\n",
    "from yolo.data import CollateWithAnchors, CocoDataset, get_val_transforms\n",
    "\n",
    "from yolo.model import Yolo\n"
   ]
  },
  {
   "cell_type": "code",
   "execution_count": 2,
   "id": "399eb3a1",
   "metadata": {},
   "outputs": [
    {
     "data": {
      "text/html": [
       "<style>.container { width:100% !important; }</style>"
      ],
      "text/plain": [
       "<IPython.core.display.HTML object>"
      ]
     },
     "metadata": {},
     "output_type": "display_data"
    }
   ],
   "source": [
    "import matplotlib.pyplot as plt\n",
    "%matplotlib inline\n",
    "from IPython.display import display, HTML\n",
    "display(HTML(\"<style>.container { width:100% !important; }</style>\"))\n",
    "\n",
    "%load_ext autoreload\n",
    "%autoreload 2"
   ]
  },
  {
   "cell_type": "code",
   "execution_count": 14,
   "id": "38be2f60",
   "metadata": {},
   "outputs": [],
   "source": [
    "num_gt = torch.arange(10).sum()"
   ]
  },
  {
   "cell_type": "code",
   "execution_count": 17,
   "id": "b85dc353",
   "metadata": {},
   "outputs": [
    {
     "name": "stdout",
     "output_type": "stream",
     "text": [
      "hello\n"
     ]
    }
   ],
   "source": [
    "if num_gt == 45:\n",
    "    print(\"hello\")"
   ]
  },
  {
   "cell_type": "code",
   "execution_count": 72,
   "id": "305027b8",
   "metadata": {},
   "outputs": [
    {
     "name": "stdout",
     "output_type": "stream",
     "text": [
      "loading annotations into memory...\n",
      "Done (t=0.16s)\n",
      "creating index...\n",
      "index created!\n"
     ]
    }
   ],
   "source": [
    "IMAGE_SIZE = 608\n",
    "ANCHORS = [\n",
    "    (10,13),\n",
    "    (16,30),\n",
    "    (33,23),\n",
    "    (30,61),\n",
    "    (62,45),\n",
    "    (59,119),\n",
    "    (116,90),\n",
    "    (156,198),\n",
    "    (373,326)\n",
    "]\n",
    "SCALES = [8, 16, 32]\n",
    "\n",
    "val_dataset = CocoDataset(\n",
    "    dataset_root = \"/media/bryan/ssd01/fiftyone/coco-2017\",\n",
    "    split = \"validation\",\n",
    "    transform = get_val_transforms(resize_size=IMAGE_SIZE)\n",
    ")\n",
    "val_dataloader = torch.utils.data.DataLoader(\n",
    "    val_dataset,\n",
    "    batch_size=10,\n",
    "    shuffle=False,\n",
    "    pin_memory=True,\n",
    "    drop_last=False,\n",
    "    num_workers=0,\n",
    "    collate_fn=CollateWithAnchors(ANCHORS, SCALES, IMAGE_SIZE, IMAGE_SIZE, num_classes = val_dataset.num_classes())\n",
    ")"
   ]
  },
  {
   "cell_type": "code",
   "execution_count": 73,
   "id": "600c0a76",
   "metadata": {},
   "outputs": [],
   "source": [
    "yolo_model = Yolo()"
   ]
  },
  {
   "cell_type": "code",
   "execution_count": 76,
   "id": "daca0bfe",
   "metadata": {},
   "outputs": [],
   "source": [
    "batch = next(iter(val_dataloader))"
   ]
  },
  {
   "cell_type": "code",
   "execution_count": 78,
   "id": "f70a4dd9",
   "metadata": {},
   "outputs": [],
   "source": [
    "output = yolo_model(batch[\"image\"])"
   ]
  },
  {
   "cell_type": "code",
   "execution_count": 80,
   "id": "6719f0fa",
   "metadata": {},
   "outputs": [
    {
     "name": "stdout",
     "output_type": "stream",
     "text": [
      "[('tx_ty_tw_th', torch.Size([10, 22743, 4])), ('objectness', torch.Size([10, 22743, 1])), ('class_logits', torch.Size([10, 22743, 80]))]\n"
     ]
    }
   ],
   "source": [
    "print([(k, v.shape) for k, v in output.items()])"
   ]
  }
 ],
 "metadata": {
  "kernelspec": {
   "display_name": "Python [conda env:pytorch-from-scratch]",
   "language": "python",
   "name": "conda-env-pytorch-from-scratch-py"
  },
  "language_info": {
   "codemirror_mode": {
    "name": "ipython",
    "version": 3
   },
   "file_extension": ".py",
   "mimetype": "text/x-python",
   "name": "python",
   "nbconvert_exporter": "python",
   "pygments_lexer": "ipython3",
   "version": "3.12.8"
  }
 },
 "nbformat": 4,
 "nbformat_minor": 5
}
